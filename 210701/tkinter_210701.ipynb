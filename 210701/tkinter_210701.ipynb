{
 "cells": [
  {
   "cell_type": "code",
   "execution_count": 2,
   "metadata": {},
   "outputs": [],
   "source": [
    "import requests \n",
    "from bs4 import BeautifulSoup"
   ]
  },
  {
   "cell_type": "code",
   "execution_count": 3,
   "metadata": {},
   "outputs": [],
   "source": [
    "#변수 url\n",
    "url = \"http://www.kric.go.kr/jsp/industry/rss/citystapassList.jsp?q_org_cd=A010010024&q_fdate=2021\"\n",
    "htmlText = requests.get(url).text\n",
    "bsoup = BeautifulSoup(htmlText, \"html.parser\")\n",
    "btab = bsoup.find(\"table\",{\"class\":\"listtbl_c100\"})\n",
    "btrs = btab.find(\"tbody\").find_all(\"tr\")\n",
    "btdcols = btrs[1].find_all(\"td\", {\"class\": \"tdcol\"})\n",
    "btds = btrs[1].find_all(\"td\")\n",
    "\n",
    "passenger = []\n",
    "\n",
    "for tr in btrs[1:] :\n",
    "    dic  = {}\n",
    "    tds = tr.find_all(\"td\")\n",
    "    dic['station'] = tds[0].text\n",
    "    dic['geton'] = tds[2].text\n",
    "    dic['getoff'] = tds[3].text\n",
    "    passenger.append(dic)    "
   ]
  },
  {
   "cell_type": "code",
   "execution_count": 11,
   "metadata": {},
   "outputs": [
    {
     "data": {
      "text/plain": [
       "[<td class=\"tdcol\">대곡역</td>,\n",
       " <td class=\"tdcol\">1호선</td>,\n",
       " <td class=\"tdr\">280,043</td>,\n",
       " <td class=\"tdr\">259,323</td>,\n",
       " <td class=\"tdr\">137,609</td>,\n",
       " <td class=\"tdr\">127,823</td>,\n",
       " <td class=\"tdr\">142,434</td>,\n",
       " <td class=\"tdr\">131,500</td>,\n",
       " <td class=\"tdr\">0</td>,\n",
       " <td class=\"tdr\">0</td>,\n",
       " <td class=\"tdr\">0</td>,\n",
       " <td class=\"tdr\">0</td>,\n",
       " <td class=\"tdr\">0</td>,\n",
       " <td class=\"tdr\">0</td>,\n",
       " <td class=\"tdr\">0</td>,\n",
       " <td class=\"tdr\">0</td>,\n",
       " <td class=\"tdr\">0</td>,\n",
       " <td class=\"tdr\">0</td>,\n",
       " <td class=\"tdr\">0</td>,\n",
       " <td class=\"tdr\">0</td>,\n",
       " <td class=\"tdr\">0</td>,\n",
       " <td class=\"tdr\">0</td>,\n",
       " <td class=\"tdr\">0</td>,\n",
       " <td class=\"tdr\">0</td>,\n",
       " <td class=\"tdr\">0</td>,\n",
       " <td class=\"tdr\">0</td>,\n",
       " <td class=\"tdr\">0</td>,\n",
       " <td class=\"tdr\">0</td>]"
      ]
     },
     "execution_count": 11,
     "metadata": {},
     "output_type": "execute_result"
    }
   ],
   "source": [
    "btds"
   ]
  },
  {
   "cell_type": "code",
   "execution_count": 41,
   "metadata": {},
   "outputs": [
    {
     "data": {
      "text/plain": [
       "[{'station': '대곡역', 'geton': '280,043', 'getoff': '259,323'},\n",
       " {'station': '진천역', 'geton': '286,002', 'getoff': '284,565'},\n",
       " {'station': '월배역', 'geton': '192,265', 'getoff': '190,418'},\n",
       " {'station': '상인역', 'geton': '496,673', 'getoff': '494,759'},\n",
       " {'station': '월촌역', 'geton': '197,143', 'getoff': '193,855'},\n",
       " {'station': '송현역', 'geton': '170,162', 'getoff': '171,938'},\n",
       " {'station': '성당못역', 'geton': '386,345', 'getoff': '373,346'},\n",
       " {'station': '대명역', 'geton': '129,304', 'getoff': '129,101'},\n",
       " {'station': '안지랑역', 'geton': '195,179', 'getoff': '194,365'},\n",
       " {'station': '현충로역', 'geton': '156,963', 'getoff': '154,001'},\n",
       " {'station': '영대병원역', 'geton': '216,105', 'getoff': '224,576'},\n",
       " {'station': '교대역', 'geton': '156,276', 'getoff': '152,832'},\n",
       " {'station': '명덕역1', 'geton': '145,342', 'getoff': '159,230'},\n",
       " {'station': '반월당역1', 'geton': '362,794', 'getoff': '528,436'}]"
      ]
     },
     "execution_count": 41,
     "metadata": {},
     "output_type": "execute_result"
    }
   ],
   "source": [
    "passenger"
   ]
  },
  {
   "cell_type": "code",
   "execution_count": 42,
   "metadata": {},
   "outputs": [],
   "source": [
    "from tkinter import Tk, ttk, Label, Button, Text, END\n",
    "\n",
    "window = Tk()\n",
    "window.title(\"인원관리 프로그램\")\n",
    "window.geometry(\"400x400\")\n",
    "window.resizable(0,0) #사이즈 조정 안되게함\n",
    "\n",
    "title=\"지하철 승하차 인원관리\"\n",
    "title_feature = Label(window, text = title, font = (\"Calibri\", 20))\n",
    "title_feature.pack(padx = 10, pady = 15) #위치 지정\n",
    "\n",
    "treeTable = ttk.Treeview(window)\n",
    "treeTable[\"columns\"] = (\"station\", \"geton\", \"getoff\")\n",
    "treeTable.column(\"#0\", width = 50, anchor = \"center\")\n",
    "treeTable.column(\"station\", width = 50, anchor = \"center\")\n",
    "treeTable.column(\"geton\", width = 50, anchor = \"center\")\n",
    "treeTable.column(\"getoff\", width = 50, anchor = \"center\")\n",
    "\n",
    "treeTable.heading(\"#0\", text=\"No.\", anchor = \"center\")\n",
    "treeTable.heading(\"station\", text=\"역이름\", anchor = \"center\")\n",
    "treeTable.heading(\"geton\", text=\"승차인원\", anchor = \"center\")\n",
    "treeTable.heading(\"getoff\", text=\"하차인원\", anchor = \"center\")\n",
    "\n",
    "def setTableItem() :\n",
    "    treeTable.delete(*treeTable.get_children())\n",
    "    for idx, report in enumerate(passenger) :\n",
    "        station = report['station']\n",
    "        geton = report['geton']\n",
    "        getoff = report['getoff']\n",
    "        treeTable.insert(\"\", 'end', iid = None, text = str(idx), values = [station, geton, getoff])\n",
    "        \n",
    "setTableItem()\n",
    "        \n",
    "treeTable.place(x=10, y=90, width=380, height=200)\n",
    "\n",
    "window.mainloop()"
   ]
  }
 ],
 "metadata": {
  "kernelspec": {
   "display_name": "Python 3",
   "language": "python",
   "name": "python3"
  },
  "language_info": {
   "codemirror_mode": {
    "name": "ipython",
    "version": 3
   },
   "file_extension": ".py",
   "mimetype": "text/x-python",
   "name": "python",
   "nbconvert_exporter": "python",
   "pygments_lexer": "ipython3",
   "version": "3.8.5"
  }
 },
 "nbformat": 4,
 "nbformat_minor": 4
}
