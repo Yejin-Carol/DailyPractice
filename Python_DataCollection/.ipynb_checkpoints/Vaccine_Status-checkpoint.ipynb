{
 "cells": [
  {
   "cell_type": "code",
   "execution_count": 1,
   "metadata": {},
   "outputs": [],
   "source": [
    "import requests \n",
    "from bs4 import BeautifulSoup"
   ]
  },
  {
   "cell_type": "code",
   "execution_count": 31,
   "metadata": {},
   "outputs": [],
   "source": [
    "url = \"https://ncv.kdca.go.kr/mainStatus.es?mid=a11702000000\"\n",
    "htmlText = requests.get(url).text\n",
    "bsoup = BeautifulSoup(htmlText, \"html.parser\")\n",
    "btab = bsoup.find_all(\"tbody\")\n",
    "btrs = btab[1].find_all(\"tr\")\n",
    "# btrs = btab.find_all(\"tbody\")\n",
    "# btdcols = btrs[3].find_all(\"th\")\n",
    "# btds = btrs[3].find_all(\"td\")"
   ]
  },
  {
   "cell_type": "code",
   "execution_count": 36,
   "metadata": {},
   "outputs": [
    {
     "data": {
      "text/plain": [
       "[<tr class=\"sumline_cmn_top\">\n",
       " <th scope=\"row\">합계</th>\n",
       " <td class=\"d_num\">\n",
       "                     \n",
       "                     4,043\n",
       "                 </td>\n",
       " <td class=\"d_num\">\n",
       "                     \n",
       "                     15,340,827\n",
       "                 </td>\n",
       " <td class=\"d_num\">\n",
       "                     \n",
       "                     86,635\n",
       "                 </td>\n",
       " <td class=\"d_num\">\n",
       "                     \n",
       "                     5,156,549\n",
       "                 </td>\n",
       " </tr>,\n",
       " <tr>\n",
       " <th scope=\"row\">서울</th>\n",
       " <td class=\"ta_r\">1,642</td>\n",
       " <td class=\"ta_r\">2,838,855</td>\n",
       " <td class=\"ta_r\">18,865</td>\n",
       " <td class=\"ta_r\">964,356</td>\n",
       " </tr>,\n",
       " <tr>\n",
       " <th scope=\"row\">부산</th>\n",
       " <td class=\"ta_r\">431</td>\n",
       " <td class=\"ta_r\">1,102,085</td>\n",
       " <td class=\"ta_r\">8,869</td>\n",
       " <td class=\"ta_r\">348,253</td>\n",
       " </tr>,\n",
       " <tr>\n",
       " <th scope=\"row\">대구</th>\n",
       " <td class=\"ta_r\">79</td>\n",
       " <td class=\"ta_r\">652,022</td>\n",
       " <td class=\"ta_r\">3,925</td>\n",
       " <td class=\"ta_r\">214,869</td>\n",
       " </tr>,\n",
       " <tr>\n",
       " <th scope=\"row\">인천</th>\n",
       " <td class=\"ta_r\">76</td>\n",
       " <td class=\"ta_r\">803,775</td>\n",
       " <td class=\"ta_r\">4,687</td>\n",
       " <td class=\"ta_r\">256,066</td>\n",
       " </tr>,\n",
       " <tr>\n",
       " <th scope=\"row\">광주</th>\n",
       " <td class=\"ta_r\">139</td>\n",
       " <td class=\"ta_r\">430,080</td>\n",
       " <td class=\"ta_r\">429</td>\n",
       " <td class=\"ta_r\">148,472</td>\n",
       " </tr>,\n",
       " <tr>\n",
       " <th scope=\"row\">대전</th>\n",
       " <td class=\"ta_r\">42</td>\n",
       " <td class=\"ta_r\">408,215</td>\n",
       " <td class=\"ta_r\">1,307</td>\n",
       " <td class=\"ta_r\">137,644</td>\n",
       " </tr>,\n",
       " <tr>\n",
       " <th scope=\"row\">울산</th>\n",
       " <td class=\"ta_r\">26</td>\n",
       " <td class=\"ta_r\">296,472</td>\n",
       " <td class=\"ta_r\">1,564</td>\n",
       " <td class=\"ta_r\">89,295</td>\n",
       " </tr>,\n",
       " <tr>\n",
       " <th scope=\"row\">세종</th>\n",
       " <td class=\"ta_r\">8</td>\n",
       " <td class=\"ta_r\">78,030</td>\n",
       " <td class=\"ta_r\">273</td>\n",
       " <td class=\"ta_r\">25,661</td>\n",
       " </tr>,\n",
       " <tr>\n",
       " <th scope=\"row\">경기</th>\n",
       " <td class=\"ta_r\">378</td>\n",
       " <td class=\"ta_r\">3,501,733</td>\n",
       " <td class=\"ta_r\">17,669</td>\n",
       " <td class=\"ta_r\">1,163,425</td>\n",
       " </tr>,\n",
       " <tr>\n",
       " <th scope=\"row\">강원</th>\n",
       " <td class=\"ta_r\">121</td>\n",
       " <td class=\"ta_r\">553,672</td>\n",
       " <td class=\"ta_r\">3,542</td>\n",
       " <td class=\"ta_r\">183,883</td>\n",
       " </tr>,\n",
       " <tr>\n",
       " <th scope=\"row\">충북</th>\n",
       " <td class=\"ta_r\">51</td>\n",
       " <td class=\"ta_r\">520,689</td>\n",
       " <td class=\"ta_r\">1,775</td>\n",
       " <td class=\"ta_r\">175,815</td>\n",
       " </tr>,\n",
       " <tr>\n",
       " <th scope=\"row\">충남</th>\n",
       " <td class=\"ta_r\">89</td>\n",
       " <td class=\"ta_r\">690,514</td>\n",
       " <td class=\"ta_r\">5,302</td>\n",
       " <td class=\"ta_r\">245,827</td>\n",
       " </tr>,\n",
       " <tr>\n",
       " <th scope=\"row\">전북</th>\n",
       " <td class=\"ta_r\">114</td>\n",
       " <td class=\"ta_r\">656,455</td>\n",
       " <td class=\"ta_r\">4,330</td>\n",
       " <td class=\"ta_r\">233,257</td>\n",
       " </tr>,\n",
       " <tr>\n",
       " <th scope=\"row\">전남</th>\n",
       " <td class=\"ta_r\">161</td>\n",
       " <td class=\"ta_r\">721,691</td>\n",
       " <td class=\"ta_r\">3,912</td>\n",
       " <td class=\"ta_r\">260,697</td>\n",
       " </tr>,\n",
       " <tr>\n",
       " <th scope=\"row\">경북</th>\n",
       " <td class=\"ta_r\">127</td>\n",
       " <td class=\"ta_r\">878,696</td>\n",
       " <td class=\"ta_r\">4,589</td>\n",
       " <td class=\"ta_r\">304,862</td>\n",
       " </tr>,\n",
       " <tr>\n",
       " <th scope=\"row\">경남</th>\n",
       " <td class=\"ta_r\">151</td>\n",
       " <td class=\"ta_r\">1,010,027</td>\n",
       " <td class=\"ta_r\">4,669</td>\n",
       " <td class=\"ta_r\">337,778</td>\n",
       " </tr>,\n",
       " <tr>\n",
       " <th scope=\"row\">제주</th>\n",
       " <td class=\"ta_r\">408</td>\n",
       " <td class=\"ta_r\">197,816</td>\n",
       " <td class=\"ta_r\">928</td>\n",
       " <td class=\"ta_r\">66,389</td>\n",
       " </tr>]"
      ]
     },
     "execution_count": 36,
     "metadata": {},
     "output_type": "execute_result"
    }
   ],
   "source": [
    "btrs"
   ]
  },
  {
   "cell_type": "code",
   "execution_count": 37,
   "metadata": {},
   "outputs": [
    {
     "data": {
      "text/plain": [
       "<tr>\n",
       "<th scope=\"row\">서울</th>\n",
       "<td class=\"ta_r\">1,642</td>\n",
       "<td class=\"ta_r\">2,838,855</td>\n",
       "<td class=\"ta_r\">18,865</td>\n",
       "<td class=\"ta_r\">964,356</td>\n",
       "</tr>"
      ]
     },
     "execution_count": 37,
     "metadata": {},
     "output_type": "execute_result"
    }
   ],
   "source": [
    "btrs[1]"
   ]
  },
  {
   "cell_type": "code",
   "execution_count": 38,
   "metadata": {},
   "outputs": [],
   "source": [
    "vaccine = []\n",
    "\n",
    "for td in btrs[1:] :\n",
    "    dic= {}\n",
    "    tds = td.find_all(\"th\")\n",
    "    tdr = td.find_all(\"td\")\n",
    "    dic['city'] = tds[0].text\n",
    "    dic['first_vaccine'] = tdr[1].text\n",
    "    dic['second_vaccine'] = tdr[3].text\n",
    "    vaccine.append(dic)"
   ]
  },
  {
   "cell_type": "code",
   "execution_count": 39,
   "metadata": {},
   "outputs": [
    {
     "data": {
      "text/plain": [
       "[{'city': '서울', 'first_vaccine': '2,838,855', 'second_vaccine': '964,356'},\n",
       " {'city': '부산', 'first_vaccine': '1,102,085', 'second_vaccine': '348,253'},\n",
       " {'city': '대구', 'first_vaccine': '652,022', 'second_vaccine': '214,869'},\n",
       " {'city': '인천', 'first_vaccine': '803,775', 'second_vaccine': '256,066'},\n",
       " {'city': '광주', 'first_vaccine': '430,080', 'second_vaccine': '148,472'},\n",
       " {'city': '대전', 'first_vaccine': '408,215', 'second_vaccine': '137,644'},\n",
       " {'city': '울산', 'first_vaccine': '296,472', 'second_vaccine': '89,295'},\n",
       " {'city': '세종', 'first_vaccine': '78,030', 'second_vaccine': '25,661'},\n",
       " {'city': '경기', 'first_vaccine': '3,501,733', 'second_vaccine': '1,163,425'},\n",
       " {'city': '강원', 'first_vaccine': '553,672', 'second_vaccine': '183,883'},\n",
       " {'city': '충북', 'first_vaccine': '520,689', 'second_vaccine': '175,815'},\n",
       " {'city': '충남', 'first_vaccine': '690,514', 'second_vaccine': '245,827'},\n",
       " {'city': '전북', 'first_vaccine': '656,455', 'second_vaccine': '233,257'},\n",
       " {'city': '전남', 'first_vaccine': '721,691', 'second_vaccine': '260,697'},\n",
       " {'city': '경북', 'first_vaccine': '878,696', 'second_vaccine': '304,862'},\n",
       " {'city': '경남', 'first_vaccine': '1,010,027', 'second_vaccine': '337,778'},\n",
       " {'city': '제주', 'first_vaccine': '197,816', 'second_vaccine': '66,389'}]"
      ]
     },
     "execution_count": 39,
     "metadata": {},
     "output_type": "execute_result"
    }
   ],
   "source": [
    "vaccine"
   ]
  },
  {
   "cell_type": "code",
   "execution_count": 42,
   "metadata": {},
   "outputs": [],
   "source": [
    "from tkinter import Tk, ttk, Label, Button, Text, END\n",
    "\n",
    "window = Tk()\n",
    "window.title(\"백신 접종 현황\")\n",
    "window.geometry(\"400x400\")\n",
    "window.resizable(0,0) #사이즈 조정 안되게함\n",
    "\n",
    "title=\"코로나19 예방접종 누계\" \n",
    "title_feature = Label(window, text = title, font = (\"Calibri\", 20))\n",
    "title_feature.pack(padx = 10, pady = 15) #위치 지정\n",
    "\n",
    "treeTable = ttk.Treeview(window)\n",
    "treeTable[\"columns\"] = (\"city\", \"first_vaccine\", \"second_vaccine\")\n",
    "treeTable.column(\"#0\", width = 50, anchor = \"center\")\n",
    "treeTable.column(\"city\", width = 50, anchor = \"center\")\n",
    "treeTable.column(\"first_vaccine\", width = 50, anchor = \"center\")\n",
    "treeTable.column(\"second_vaccine\", width = 50, anchor = \"center\")\n",
    "\n",
    "treeTable.heading(\"#0\", text=\"No.\", anchor = \"center\")\n",
    "treeTable.heading(\"city\", text=\"시도별\", anchor = \"center\")\n",
    "treeTable.heading(\"first_vaccine\", text=\"1회차 접종\", anchor = \"center\")\n",
    "treeTable.heading(\"second_vaccine\", text=\"2회차 접종\", anchor = \"center\")\n",
    "\n",
    "def setTableItem() :\n",
    "    treeTable.delete(*treeTable.get_children())\n",
    "    for idx, report in enumerate(vaccine) :\n",
    "        city = report['city']\n",
    "        first_vaccine = report['first_vaccine']\n",
    "        second_vaccine = report['second_vaccine']\n",
    "        treeTable.insert(\"\", 'end', iid = None, text = str(idx), values = [city, first_vaccine, second_vaccine])\n",
    "        \n",
    "setTableItem()\n",
    "        \n",
    "treeTable.place(x=10, y=90, width=380, height=200)\n",
    "\n",
    "window.mainloop()\n"
   ]
  },
  {
   "cell_type": "code",
   "execution_count": 43,
   "metadata": {},
   "outputs": [],
   "source": [
    "import csv\n",
    "import matplotlib.pyplot as plt"
   ]
  },
  {
   "cell_type": "code",
   "execution_count": 117,
   "metadata": {},
   "outputs": [],
   "source": [
    "with open('./행정구역_시군구_별__성별_인구수_20210701145504.csv', encoding = 'cp949') as csvfile:\n",
    "    data = csv.DictReader(csvfile)\n",
    "    a\n",
    "    for i in data:\n",
    "        a = i               \n",
    "        "
   ]
  },
  {
   "cell_type": "code",
   "execution_count": 118,
   "metadata": {},
   "outputs": [
    {
     "data": {
      "text/plain": [
       "{'행정구역(시군구)별': '제주특별자치도',\n",
       " '2021. 03': '335768',\n",
       " '2021. 04': '336062',\n",
       " '2021. 05': '336311'}"
      ]
     },
     "execution_count": 118,
     "metadata": {},
     "output_type": "execute_result"
    }
   ],
   "source": [
    "i"
   ]
  },
  {
   "cell_type": "code",
   "execution_count": null,
   "metadata": {},
   "outputs": [],
   "source": []
  }
 ],
 "metadata": {
  "kernelspec": {
   "display_name": "Python 3",
   "language": "python",
   "name": "python3"
  },
  "language_info": {
   "codemirror_mode": {
    "name": "ipython",
    "version": 3
   },
   "file_extension": ".py",
   "mimetype": "text/x-python",
   "name": "python",
   "nbconvert_exporter": "python",
   "pygments_lexer": "ipython3",
   "version": "3.8.5"
  }
 },
 "nbformat": 4,
 "nbformat_minor": 4
}
