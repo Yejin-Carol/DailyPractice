{
 "cells": [
  {
   "cell_type": "code",
   "execution_count": 220,
   "metadata": {},
   "outputs": [],
   "source": [
    "import requests \n",
    "from bs4 import BeautifulSoup"
   ]
  },
  {
   "cell_type": "code",
   "execution_count": 221,
   "metadata": {},
   "outputs": [],
   "source": [
    "url = \"https://ncv.kdca.go.kr/mainStatus.es?mid=a11702000000\"\n",
    "htmlText = requests.get(url).text\n",
    "bsoup = BeautifulSoup(htmlText, \"html.parser\")\n",
    "btab = bsoup.find_all(\"tbody\")\n",
    "btrs = btab[1].find_all(\"tr\")\n",
    "# btrs = btab.find_all(\"tbody\")\n",
    "# btdcols = btrs[3].find_all(\"th\")\n",
    "# btds = btrs[3].find_all(\"td\")"
   ]
  },
  {
   "cell_type": "code",
   "execution_count": 223,
   "metadata": {},
   "outputs": [],
   "source": [
    "vaccine = []\n",
    "\n",
    "for td in btrs[1:] :\n",
    "    dic= {}\n",
    "    tds = td.find_all(\"th\")\n",
    "    tdr = td.find_all(\"td\")\n",
    "    dic['city'] = tds[0].text\n",
    "    dic['first_vaccine'] = tdr[1].text\n",
    "    dic['second_vaccine'] = tdr[3].text\n",
    "    vaccine.append(dic)"
   ]
  },
  {
   "cell_type": "code",
   "execution_count": 224,
   "metadata": {},
   "outputs": [
    {
     "data": {
      "text/plain": [
       "[{'city': '서울', 'first_vaccine': '2,838,855', 'second_vaccine': '964,356'},\n",
       " {'city': '부산', 'first_vaccine': '1,102,085', 'second_vaccine': '348,253'},\n",
       " {'city': '대구', 'first_vaccine': '652,022', 'second_vaccine': '214,869'},\n",
       " {'city': '인천', 'first_vaccine': '803,775', 'second_vaccine': '256,066'},\n",
       " {'city': '광주', 'first_vaccine': '430,080', 'second_vaccine': '148,472'},\n",
       " {'city': '대전', 'first_vaccine': '408,215', 'second_vaccine': '137,644'},\n",
       " {'city': '울산', 'first_vaccine': '296,472', 'second_vaccine': '89,295'},\n",
       " {'city': '세종', 'first_vaccine': '78,030', 'second_vaccine': '25,661'},\n",
       " {'city': '경기', 'first_vaccine': '3,501,733', 'second_vaccine': '1,163,425'},\n",
       " {'city': '강원', 'first_vaccine': '553,672', 'second_vaccine': '183,883'},\n",
       " {'city': '충북', 'first_vaccine': '520,689', 'second_vaccine': '175,815'},\n",
       " {'city': '충남', 'first_vaccine': '690,514', 'second_vaccine': '245,827'},\n",
       " {'city': '전북', 'first_vaccine': '656,455', 'second_vaccine': '233,257'},\n",
       " {'city': '전남', 'first_vaccine': '721,691', 'second_vaccine': '260,697'},\n",
       " {'city': '경북', 'first_vaccine': '878,696', 'second_vaccine': '304,862'},\n",
       " {'city': '경남', 'first_vaccine': '1,010,027', 'second_vaccine': '337,778'},\n",
       " {'city': '제주', 'first_vaccine': '197,816', 'second_vaccine': '66,389'}]"
      ]
     },
     "execution_count": 224,
     "metadata": {},
     "output_type": "execute_result"
    }
   ],
   "source": [
    "vaccine"
   ]
  },
  {
   "cell_type": "code",
   "execution_count": 225,
   "metadata": {},
   "outputs": [],
   "source": [
    "from tkinter import Tk, ttk, Label, Button, Text, END\n",
    "from tkinter import messagebox\n",
    "\n",
    "window = Tk()\n",
    "window.title(\"백신접종 현황\")\n",
    "window.geometry(\"400x400\")\n",
    "window.resizable(0,0) #사이즈 조정 안되게함\n",
    "\n",
    "title=\"시도별 백신접종 현황\"\n",
    "title_feature = Label(window, text = title, font = (\"Calibri\", 20))\n",
    "title_feature.pack(padx = 10, pady = 15) #위치 지정\n",
    "\n",
    "treeTable = ttk.Treeview(window)\n",
    "treeTable[\"columns\"] = (\"city\", \"first_vaccine\", \"second_vaccine\")\n",
    "treeTable.column(\"#0\", width = 50, anchor = \"center\")\n",
    "treeTable.column(\"city\", width = 50, anchor = \"center\")\n",
    "treeTable.column(\"first_vaccine\", width = 50, anchor = \"center\")\n",
    "treeTable.column(\"second_vaccine\", width = 50, anchor = \"center\")\n",
    "\n",
    "treeTable.heading(\"#0\", text=\"No.\", anchor = \"center\")\n",
    "treeTable.heading(\"city\", text=\"시도별\", anchor = \"center\")\n",
    "treeTable.heading(\"first_vaccine\", text=\"1차 접종현황\", anchor = \"center\")\n",
    "treeTable.heading(\"second_vaccine\", text=\"2차 접종현황\", anchor = \"center\")\n",
    "\n",
    "def setTableItem() :\n",
    "    treeTable.delete(*treeTable.get_children())\n",
    "    for idx, report in enumerate(vaccine) :\n",
    "        city = report['city']\n",
    "        first_vaccine = report['first_vaccine']\n",
    "        second_vaccine = report['second_vaccine']\n",
    "        treeTable.insert(\"\", 'end', iid = None, text = str(idx), values = [city, first_vaccine, second_vaccine])\n",
    " \n",
    "btn1 = Button(window, text = 'Search', bg='black', fg='white')\n",
    "btn1.place(x=100,y=300, relx = 0.5, width = 60, height = 40)\n",
    "\n",
    "# import thinkter as tk\n",
    "# def create_window():\n",
    "#     window = tk.Toplevel(root)\n",
    "# root = tk.Tk()\n",
    "# b = tk.Button(root, text=\"Create new window\", command=create_window)\n",
    "# b.pack()\n",
    "# root.mainloop()\n",
    "\n",
    "setTableItem()\n",
    "treeTable.place(x=10, y=90, width=380, height=200)\n",
    "\n",
    "window.mainloop()"
   ]
  },
  {
   "cell_type": "code",
   "execution_count": 202,
   "metadata": {},
   "outputs": [
    {
     "name": "stdout",
     "output_type": "stream",
     "text": [
      "['행정구역(시군구)별', '2021. 03', '2021. 03', '2021. 03', '2021. 04', '2021. 04', '2021. 04', '2021. 05', '2021. 05', '2021. 05']\n",
      "['행정구역(시군구)별', '총인구수 (명)', '남자인구수 (명)', '여자인구수 (명)', '총인구수 (명)', '남자인구수 (명)', '여자인구수 (명)', '총인구수 (명)', '남자인구수 (명)', '여자인구수 (명)']\n",
      "['전국', '51705905', '25787390', '25918515', '51702100', '25784538', '25917562', '51683025', '25775853', '25907172']\n",
      "['서울특별시', '9598484', '4667524', '4930960', '9588711', '4661711', '4927000', '9575355', '4654720', '4920635']\n",
      "['부산광역시', '3372399', '1651804', '1720595', '3369704', '1650252', '1719452', '3367334', '1648965', '1718369']\n",
      "['대구광역시', '2408875', '1188070', '1220805', '2406296', '1186663', '1219633', '2402940', '1184977', '1217963']\n",
      "['인천광역시', '2936461', '1470750', '1465711', '2936214', '1470490', '1465724', '2936382', '1470528', '1465854']\n",
      "['광주광역시', '1445473', '715226', '730247', '1444787', '714834', '729953', '1443154', '714101', '729053']\n",
      "['대전광역시', '1458463', '728075', '730388', '1457619', '727522', '730097', '1457161', '727279', '729882']\n",
      "['울산광역시', '1129254', '580424', '548830', '1128163', '579853', '548310', '1127175', '579316', '547859']\n",
      "['세종특별자치시', '360462', '180030', '180432', '361396', '180462', '180934', '362036', '180778', '181258']\n",
      "['경기도', '13465837', '6776866', '6688971', '13479798', '6784466', '6695332', '13488910', '6789327', '6699583']\n",
      "['강원도', '1536399', '773248', '763151', '1536175', '773037', '763138', '1535491', '772893', '762598']\n",
      "['충청북도', '1595714', '809457', '786257', '1596303', '809679', '786624', '1596955', '809946', '787009']\n",
      "['충청남도', '2115823', '1080841', '1034982', '2116452', '1081275', '1035177', '2117260', '1081854', '1035406']\n",
      "['전라북도', '1797450', '893974', '903476', '1796331', '893415', '902916', '1794682', '892833', '901849']\n",
      "['전라남도', '1844811', '927884', '916927', '1844148', '927667', '916481', '1842423', '927074', '915349']\n",
      "['경상북도', '2635563', '1327990', '1307573', '2635896', '1328240', '1307656', '2633592', '1327307', '1306285']\n",
      "['경상남도', '3330463', '1677021', '1653442', '3329623', '1676550', '1653073', '3327298', '1675389', '1651909']\n",
      "['제주특별자치도', '673974', '338206', '335768', '674484', '338422', '336062', '674877', '338566', '336311']\n"
     ]
    }
   ],
   "source": [
    "import csv\n",
    "f = open('행정구역_시군구_별__성별_인구수_20210701145504.csv', 'r', encoding= 'cp949')\n",
    "rdr = csv.reader(f)\n",
    "\n",
    "for line in rdr:\n",
    "    print(line)\n",
    "    \n",
    "f.close()"
   ]
  },
  {
   "cell_type": "code",
   "execution_count": null,
   "metadata": {},
   "outputs": [],
   "source": []
  },
  {
   "cell_type": "code",
   "execution_count": null,
   "metadata": {},
   "outputs": [],
   "source": []
  },
  {
   "cell_type": "code",
   "execution_count": null,
   "metadata": {},
   "outputs": [],
   "source": []
  },
  {
   "cell_type": "code",
   "execution_count": null,
   "metadata": {},
   "outputs": [],
   "source": []
  },
  {
   "cell_type": "code",
   "execution_count": null,
   "metadata": {},
   "outputs": [],
   "source": []
  },
  {
   "cell_type": "code",
   "execution_count": null,
   "metadata": {},
   "outputs": [],
   "source": []
  }
 ],
 "metadata": {
  "kernelspec": {
   "display_name": "Python 3",
   "language": "python",
   "name": "python3"
  },
  "language_info": {
   "codemirror_mode": {
    "name": "ipython",
    "version": 3
   },
   "file_extension": ".py",
   "mimetype": "text/x-python",
   "name": "python",
   "nbconvert_exporter": "python",
   "pygments_lexer": "ipython3",
   "version": "3.8.5"
  }
 },
 "nbformat": 4,
 "nbformat_minor": 4
}
