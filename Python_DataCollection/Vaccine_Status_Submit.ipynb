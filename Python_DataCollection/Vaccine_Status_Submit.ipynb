{
 "cells": [
  {
   "cell_type": "code",
   "execution_count": 226,
   "metadata": {},
   "outputs": [],
   "source": [
    "import requests \n",
    "from bs4 import BeautifulSoup"
   ]
  },
  {
   "cell_type": "code",
   "execution_count": 227,
   "metadata": {},
   "outputs": [],
   "source": [
    "url = \"https://ncv.kdca.go.kr/mainStatus.es?mid=a11702000000\"\n",
    "htmlText = requests.get(url).text\n",
    "bsoup = BeautifulSoup(htmlText, \"html.parser\")\n",
    "btab = bsoup.find_all(\"tbody\")\n",
    "btrs = btab[1].find_all(\"tr\")\n",
    "# btrs = btab.find_all(\"tbody\")\n",
    "# btdcols = btrs[3].find_all(\"th\")\n",
    "# btds = btrs[3].find_all(\"td\")"
   ]
  },
  {
   "cell_type": "code",
   "execution_count": 228,
   "metadata": {},
   "outputs": [],
   "source": [
    "vaccine = []\n",
    "\n",
    "for td in btrs[1:] :\n",
    "    dic= {}\n",
    "    tds = td.find_all(\"th\")\n",
    "    tdr = td.find_all(\"td\")\n",
    "    dic['city'] = tds[0].text\n",
    "    dic['first_vaccine'] = tdr[1].text\n",
    "    dic['second_vaccine'] = tdr[3].text\n",
    "    vaccine.append(dic)"
   ]
  },
  {
   "cell_type": "code",
   "execution_count": 229,
   "metadata": {},
   "outputs": [
    {
     "data": {
      "text/plain": [
       "[{'city': '서울', 'first_vaccine': '2,838,855', 'second_vaccine': '964,356'},\n",
       " {'city': '부산', 'first_vaccine': '1,102,085', 'second_vaccine': '348,253'},\n",
       " {'city': '대구', 'first_vaccine': '652,022', 'second_vaccine': '214,869'},\n",
       " {'city': '인천', 'first_vaccine': '803,775', 'second_vaccine': '256,066'},\n",
       " {'city': '광주', 'first_vaccine': '430,080', 'second_vaccine': '148,472'},\n",
       " {'city': '대전', 'first_vaccine': '408,215', 'second_vaccine': '137,644'},\n",
       " {'city': '울산', 'first_vaccine': '296,472', 'second_vaccine': '89,295'},\n",
       " {'city': '세종', 'first_vaccine': '78,030', 'second_vaccine': '25,661'},\n",
       " {'city': '경기', 'first_vaccine': '3,501,733', 'second_vaccine': '1,163,425'},\n",
       " {'city': '강원', 'first_vaccine': '553,672', 'second_vaccine': '183,883'},\n",
       " {'city': '충북', 'first_vaccine': '520,689', 'second_vaccine': '175,815'},\n",
       " {'city': '충남', 'first_vaccine': '690,514', 'second_vaccine': '245,827'},\n",
       " {'city': '전북', 'first_vaccine': '656,455', 'second_vaccine': '233,257'},\n",
       " {'city': '전남', 'first_vaccine': '721,691', 'second_vaccine': '260,697'},\n",
       " {'city': '경북', 'first_vaccine': '878,696', 'second_vaccine': '304,862'},\n",
       " {'city': '경남', 'first_vaccine': '1,010,027', 'second_vaccine': '337,778'},\n",
       " {'city': '제주', 'first_vaccine': '197,816', 'second_vaccine': '66,389'}]"
      ]
     },
     "execution_count": 229,
     "metadata": {},
     "output_type": "execute_result"
    }
   ],
   "source": [
    "vaccine"
   ]
  },
  {
   "cell_type": "code",
   "execution_count": 230,
   "metadata": {},
   "outputs": [],
   "source": [
    "from tkinter import Tk, ttk, Label, Button, Text, END\n",
    "from tkinter import messagebox\n",
    "\n",
    "window = Tk()\n",
    "window.title(\"백신접종 현황\")\n",
    "window.geometry(\"400x400\")\n",
    "window.resizable(0,0) #사이즈 조정 안되게함\n",
    "\n",
    "title=\"시도별 백신접종 현황\"\n",
    "title_feature = Label(window, text = title, font = (\"Calibri\", 20))\n",
    "title_feature.pack(padx = 10, pady = 15) #위치 지정\n",
    "\n",
    "treeTable = ttk.Treeview(window)\n",
    "treeTable[\"columns\"] = (\"city\", \"first_vaccine\", \"second_vaccine\")\n",
    "treeTable.column(\"#0\", width = 50, anchor = \"center\")\n",
    "treeTable.column(\"city\", width = 50, anchor = \"center\")\n",
    "treeTable.column(\"first_vaccine\", width = 50, anchor = \"center\")\n",
    "treeTable.column(\"second_vaccine\", width = 50, anchor = \"center\")\n",
    "\n",
    "treeTable.heading(\"#0\", text=\"No.\", anchor = \"center\")\n",
    "treeTable.heading(\"city\", text=\"시도별\", anchor = \"center\")\n",
    "treeTable.heading(\"first_vaccine\", text=\"1차 접종현황\", anchor = \"center\")\n",
    "treeTable.heading(\"second_vaccine\", text=\"2차 접종현황\", anchor = \"center\")\n",
    "\n",
    "def setTableItem() :\n",
    "    treeTable.delete(*treeTable.get_children())\n",
    "    for idx, report in enumerate(vaccine) :\n",
    "        city = report['city']\n",
    "        first_vaccine = report['first_vaccine']\n",
    "        second_vaccine = report['second_vaccine']\n",
    "        treeTable.insert(\"\", 'end', iid = None, text = str(idx), values = [city, first_vaccine, second_vaccine])\n",
    " \n",
    "btn1 = Button(window, text = 'Search', bg='black', fg='white')\n",
    "btn1.place(x=100,y=300, relx = 0.5, width = 60, height = 40)\n",
    "\n",
    "# import thinkter as tk\n",
    "# def create_window():\n",
    "#     window = tk.Toplevel(root)\n",
    "# root = tk.Tk()\n",
    "# b = tk.Button(root, text=\"Create new window\", command=create_window)\n",
    "# b.pack()\n",
    "# root.mainloop()\n",
    "\n",
    "setTableItem()\n",
    "treeTable.place(x=10, y=90, width=380, height=200)\n",
    "\n",
    "window.mainloop()"
   ]
  },
  {
   "cell_type": "code",
   "execution_count": null,
   "metadata": {},
   "outputs": [],
   "source": []
  },
  {
   "cell_type": "code",
   "execution_count": null,
   "metadata": {},
   "outputs": [],
   "source": []
  },
  {
   "cell_type": "code",
   "execution_count": null,
   "metadata": {},
   "outputs": [],
   "source": []
  },
  {
   "cell_type": "code",
   "execution_count": null,
   "metadata": {},
   "outputs": [],
   "source": []
  },
  {
   "cell_type": "code",
   "execution_count": null,
   "metadata": {},
   "outputs": [],
   "source": []
  },
  {
   "cell_type": "code",
   "execution_count": null,
   "metadata": {},
   "outputs": [],
   "source": []
  }
 ],
 "metadata": {
  "kernelspec": {
   "display_name": "Python 3",
   "language": "python",
   "name": "python3"
  },
  "language_info": {
   "codemirror_mode": {
    "name": "ipython",
    "version": 3
   },
   "file_extension": ".py",
   "mimetype": "text/x-python",
   "name": "python",
   "nbconvert_exporter": "python",
   "pygments_lexer": "ipython3",
   "version": "3.8.5"
  }
 },
 "nbformat": 4,
 "nbformat_minor": 4
}
