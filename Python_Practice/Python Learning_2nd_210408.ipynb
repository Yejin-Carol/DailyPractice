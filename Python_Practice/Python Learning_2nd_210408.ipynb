{
 "cells": [
  {
   "cell_type": "code",
   "execution_count": 15,
   "metadata": {},
   "outputs": [
    {
     "name": "stdout",
     "output_type": "stream",
     "text": [
      "완두콩은 작고 녹색이다\n"
     ]
    }
   ],
   "source": [
    "#4.2 \n",
    "\n",
    "small = True#!True=big\n",
    "green = False #!False=not green\n",
    "\n",
    "\n",
    "if small == True and green !=  False: \n",
    "    print(\"체리는 작고 녹색이 아니다.\")\n",
    "elif small== True and green == False:\n",
    "     print(\"완두콩은 작고 녹색이다\")\n",
    "elif small !=True and green == False:\n",
    "     print(\"수박은 크고 녹색이다\")\n",
    "else:\n",
    "     print(\"호박은 크고 녹색이 아니다.\")\n",
    "        \n"
   ]
  },
  {
   "cell_type": "code",
   "execution_count": 17,
   "metadata": {},
   "outputs": [
    {
     "name": "stdout",
     "output_type": "stream",
     "text": [
      "cat\tdog\n"
     ]
    }
   ],
   "source": [
    "print('cat\\t', end ='')\n",
    "print('dog')"
   ]
  },
  {
   "cell_type": "code",
   "execution_count": 19,
   "metadata": {},
   "outputs": [
    {
     "name": "stdout",
     "output_type": "stream",
     "text": [
      "NaNaNaNa\n",
      "NaNaNaNa\n",
      "HeyHeyHey\n",
      "Goodbye.\n"
     ]
    }
   ],
   "source": [
    "start = 'Na' *4 +'\\n'\n",
    "middle = 'Hey' *3 +'\\n'\n",
    "end = 'Goodbye.'\n",
    "print(start+start+middle+end)"
   ]
  },
  {
   "cell_type": "code",
   "execution_count": 21,
   "metadata": {},
   "outputs": [
    {
     "data": {
      "text/plain": [
       "'Penny'"
      ]
     },
     "execution_count": 21,
     "metadata": {},
     "output_type": "execute_result"
    }
   ],
   "source": [
    "name = 'Henny'\n",
    "name.replace('H', 'P')\n"
   ]
  },
  {
   "cell_type": "code",
   "execution_count": 23,
   "metadata": {},
   "outputs": [
    {
     "data": {
      "text/plain": [
       "'Penny'"
      ]
     },
     "execution_count": 23,
     "metadata": {},
     "output_type": "execute_result"
    }
   ],
   "source": [
    "'P' + name[1:]"
   ]
  },
  {
   "cell_type": "code",
   "execution_count": 28,
   "metadata": {},
   "outputs": [
    {
     "name": "stdout",
     "output_type": "stream",
     "text": [
      "Henny\n"
     ]
    }
   ],
   "source": [
    "print(name[:])"
   ]
  },
  {
   "cell_type": "code",
   "execution_count": 39,
   "metadata": {},
   "outputs": [
    {
     "name": "stdout",
     "output_type": "stream",
     "text": [
      "hors\n"
     ]
    }
   ],
   "source": [
    "a='horse'\n",
    "print(a[:-1])"
   ]
  },
  {
   "cell_type": "code",
   "execution_count": 41,
   "metadata": {},
   "outputs": [
    {
     "name": "stdout",
     "output_type": "stream",
     "text": [
      "Found and signing book deals: Yeti, Bigfoot, Loch Ness Monster\n"
     ]
    }
   ],
   "source": [
    "crypto_list = ['Yeti', 'Bigfoot', 'Loch Ness Monster']\n",
    "crypto_string = ', '.join(crypto_list)\n",
    "print('Found and signing book deals:', crypto_string)"
   ]
  },
  {
   "cell_type": "code",
   "execution_count": 42,
   "metadata": {},
   "outputs": [
    {
     "data": {
      "text/plain": [
       "'earth'"
      ]
     },
     "execution_count": 42,
     "metadata": {},
     "output_type": "execute_result"
    }
   ],
   "source": [
    "world = \" earth \"\n",
    "world.strip()"
   ]
  },
  {
   "cell_type": "code",
   "execution_count": 43,
   "metadata": {},
   "outputs": [
    {
     "data": {
      "text/plain": [
       "'earth'"
      ]
     },
     "execution_count": 43,
     "metadata": {},
     "output_type": "execute_result"
    }
   ],
   "source": [
    "world.strip(' ')"
   ]
  },
  {
   "cell_type": "code",
   "execution_count": 44,
   "metadata": {},
   "outputs": [
    {
     "data": {
      "text/plain": [
       "'earth '"
      ]
     },
     "execution_count": 44,
     "metadata": {},
     "output_type": "execute_result"
    }
   ],
   "source": [
    "world.lstrip()"
   ]
  },
  {
   "cell_type": "code",
   "execution_count": 45,
   "metadata": {},
   "outputs": [
    {
     "data": {
      "text/plain": [
       "' earth'"
      ]
     },
     "execution_count": 45,
     "metadata": {},
     "output_type": "execute_result"
    }
   ],
   "source": [
    "world.rstrip()"
   ]
  },
  {
   "cell_type": "code",
   "execution_count": 46,
   "metadata": {},
   "outputs": [
    {
     "data": {
      "text/plain": [
       "'hat th'"
      ]
     },
     "execution_count": 46,
     "metadata": {},
     "output_type": "execute_result"
    }
   ],
   "source": [
    "blurt = 'What the...!!?'\n",
    "blurt.strip('We.?!')"
   ]
  },
  {
   "cell_type": "code",
   "execution_count": 48,
   "metadata": {},
   "outputs": [
    {
     "name": "stdout",
     "output_type": "stream",
     "text": [
      " earth \n",
      "find:  -1\n"
     ]
    },
    {
     "ename": "ValueError",
     "evalue": "substring not found",
     "output_type": "error",
     "traceback": [
      "\u001b[1;31m---------------------------------------------------------------------------\u001b[0m",
      "\u001b[1;31mValueError\u001b[0m                                Traceback (most recent call last)",
      "\u001b[1;32m<ipython-input-48-5db465f9cb44>\u001b[0m in \u001b[0;36m<module>\u001b[1;34m\u001b[0m\n\u001b[0;32m      1\u001b[0m \u001b[0mprint\u001b[0m\u001b[1;33m(\u001b[0m\u001b[0mworld\u001b[0m\u001b[1;33m)\u001b[0m\u001b[1;33m\u001b[0m\u001b[1;33m\u001b[0m\u001b[0m\n\u001b[0;32m      2\u001b[0m \u001b[0mprint\u001b[0m\u001b[1;33m(\u001b[0m\u001b[1;34m'find: '\u001b[0m\u001b[1;33m,\u001b[0m\u001b[0mworld\u001b[0m\u001b[1;33m.\u001b[0m\u001b[0mfind\u001b[0m\u001b[1;33m(\u001b[0m\u001b[1;34m'w'\u001b[0m\u001b[1;33m)\u001b[0m\u001b[1;33m)\u001b[0m\u001b[1;33m\u001b[0m\u001b[1;33m\u001b[0m\u001b[0m\n\u001b[1;32m----> 3\u001b[1;33m \u001b[0mprint\u001b[0m\u001b[1;33m(\u001b[0m\u001b[1;34m'index: '\u001b[0m\u001b[1;33m,\u001b[0m\u001b[0mworld\u001b[0m\u001b[1;33m.\u001b[0m\u001b[0mindex\u001b[0m\u001b[1;33m(\u001b[0m\u001b[1;34m'w'\u001b[0m\u001b[1;33m)\u001b[0m\u001b[1;33m)\u001b[0m\u001b[1;33m\u001b[0m\u001b[1;33m\u001b[0m\u001b[0m\n\u001b[0m",
      "\u001b[1;31mValueError\u001b[0m: substring not found"
     ]
    }
   ],
   "source": [
    "print(world)\n",
    "print('find: ',world.find('w'))#값 없으면 -1로 됨.\n",
    "print('index: ',world.index('w'))#index는 위치지정, 에러남."
   ]
  },
  {
   "cell_type": "code",
   "execution_count": 60,
   "metadata": {},
   "outputs": [
    {
     "data": {
      "text/plain": [
       "str"
      ]
     },
     "execution_count": 60,
     "metadata": {},
     "output_type": "execute_result"
    }
   ],
   "source": [
    "a='%s' %42\n",
    "type(a)"
   ]
  },
  {
   "cell_type": "code",
   "execution_count": 61,
   "metadata": {},
   "outputs": [
    {
     "data": {
      "text/plain": [
       "'100%'"
      ]
     },
     "execution_count": 61,
     "metadata": {},
     "output_type": "execute_result"
    }
   ],
   "source": [
    "'%d%%' % 100"
   ]
  },
  {
   "cell_type": "code",
   "execution_count": 62,
   "metadata": {},
   "outputs": [
    {
     "data": {
      "text/plain": [
       "\"My wife's favorite actor is Richard Gere\""
      ]
     },
     "execution_count": 62,
     "metadata": {},
     "output_type": "execute_result"
    }
   ],
   "source": [
    "actor = 'Richard Gere'\n",
    "cat = 'Chester'\n",
    "weight = 28\n",
    "\"My wife's favorite actor is %s\" % actor"
   ]
  },
  {
   "cell_type": "code",
   "execution_count": 63,
   "metadata": {},
   "outputs": [
    {
     "data": {
      "text/plain": [
       "'Our cat Chester weighs 28 pounds'"
      ]
     },
     "execution_count": 63,
     "metadata": {},
     "output_type": "execute_result"
    }
   ],
   "source": [
    "\"Our cat %s weighs %s pounds\" % (cat, weight)"
   ]
  },
  {
   "cell_type": "code",
   "execution_count": 84,
   "metadata": {},
   "outputs": [
    {
     "data": {
      "text/plain": [
       "'The wereduck is in the werepond.'"
      ]
     },
     "execution_count": 84,
     "metadata": {},
     "output_type": "execute_result"
    }
   ],
   "source": [
    "thing = 'wereduck'\n",
    "place='werepond'\n",
    "'The {} is in the {}.'.format(thing, place)#format() 메서드 format_string.format(data)"
   ]
  },
  {
   "cell_type": "code",
   "execution_count": 85,
   "metadata": {},
   "outputs": [
    {
     "data": {
      "text/plain": [
       "'The wereduck is in the werepond'"
      ]
     },
     "execution_count": 85,
     "metadata": {},
     "output_type": "execute_result"
    }
   ],
   "source": [
    "f'The {thing} is in the {place}'#최신 스타일: f-문자열!"
   ]
  },
  {
   "cell_type": "code",
   "execution_count": 86,
   "metadata": {},
   "outputs": [
    {
     "data": {
      "text/plain": [
       "'The Wereduck is in the             werepond'"
      ]
     },
     "execution_count": 86,
     "metadata": {},
     "output_type": "execute_result"
    }
   ],
   "source": [
    "f'The {thing.capitalize()} is in the {place.rjust(20)}'"
   ]
  },
  {
   "cell_type": "code",
   "execution_count": 87,
   "metadata": {},
   "outputs": [
    {
     "data": {
      "text/plain": [
       "'The            wereduck is in the ......werepond......'"
      ]
     },
     "execution_count": 87,
     "metadata": {},
     "output_type": "execute_result"
    }
   ],
   "source": [
    "f'The{thing:>20} is in the {place:.^20}'"
   ]
  },
  {
   "cell_type": "code",
   "execution_count": 88,
   "metadata": {},
   "outputs": [
    {
     "data": {
      "text/plain": [
       "\"thing='wereduck',place='werepond'\""
      ]
     },
     "execution_count": 88,
     "metadata": {},
     "output_type": "execute_result"
    }
   ],
   "source": [
    "f'{thing=},{place=}'"
   ]
  },
  {
   "cell_type": "code",
   "execution_count": 89,
   "metadata": {},
   "outputs": [
    {
     "data": {
      "text/plain": [
       "\"duck, place.title() ='Werepond'\""
      ]
     },
     "execution_count": 89,
     "metadata": {},
     "output_type": "execute_result"
    }
   ],
   "source": [
    "f'{thing[-4:]}, {place.title() =}'"
   ]
  },
  {
   "cell_type": "code",
   "execution_count": 90,
   "metadata": {},
   "outputs": [
    {
     "data": {
      "text/plain": [
       "'thing = were'"
      ]
     },
     "execution_count": 90,
     "metadata": {},
     "output_type": "execute_result"
    }
   ],
   "source": [
    "f'{thing = :>4.4}'"
   ]
  },
  {
   "cell_type": "code",
   "execution_count": 209,
   "metadata": {},
   "outputs": [],
   "source": [
    "a = 'Boaty McBoatface'\n",
    "b = 'Horsey McHorseface'\n",
    "c = 'Trainy McTrainface'\n",
    "\n",
    "ad = a.replace('Boat', 'Duck')\n",
    "bf = b.replace('Horse', 'Gourd')\n",
    "cg = c.replace('Train', 'Spitz')"
   ]
  },
  {
   "cell_type": "code",
   "execution_count": 213,
   "metadata": {},
   "outputs": [
    {
     "name": "stdout",
     "output_type": "stream",
     "text": [
      "Ducky McDuckface\n",
      "Gourdy McGourdface\n",
      "Spitzy McSpitzface\n"
     ]
    }
   ],
   "source": [
    "print(ad)\n",
    "print(bf)\n",
    "print(cg)"
   ]
  },
  {
   "cell_type": "code",
   "execution_count": 192,
   "metadata": {},
   "outputs": [
    {
     "name": "stdout",
     "output_type": "stream",
     "text": [
      "Ducky McDuckface\n",
      "Gourdy McGourdface\n",
      "Spitzy McSpitzface\n",
      "an English submarine 이름은 Duck McDuckface\n",
      "an Australian racehorse 이름은 Gourd McGourdface\n",
      "an Swedish train 이름은 SpitzMcSpitzface\n",
      "an English submarine 이름은 Duck McDuckface\n",
      "an Australian racehorse 이름은 Gourd McGourdface\n",
      "an Swedish train 이름은 SpitzMcSpitzface\n",
      "an English submarine 이름은 Duck McDuckface\n",
      "an Australian racehorse 이름은 Gourd McGourdface\n",
      "an Swedish train 이름은 Spitz McSpitzface\n"
     ]
    }
   ],
   "source": [
    "#Quiz 1\n",
    "a = 'duck' #출력 Ducky McDuckyface\n",
    "b = 'gourd'#출력 Gourdy McGourdface\n",
    "c = 'spitz'#출력 Spitzy McSpitzface\n",
    "a = 'duck' #출력 Ducky McDuckyface\n",
    "b = 'gourd'#출력 Gourdy McGourdface\n",
    "c = 'spitz'#출력 Spitzy McSpitzface\n",
    "i\n",
    "#5.6\n",
    "English = '%sy Mc%sface' % (a.capitalize(), a.capitalize())\n",
    "Australian = '%sy Mc%sface' % (b.capitalize(), b.capitalize())\n",
    "Swedish = '%sy Mc%sface' % (c.capitalize(), c.capitalize())\n",
    "print(English)\n",
    "print(Australian)\n",
    "print(Swedish)\n",
    "\n",
    "#5.7\n",
    "submarine = 'an English submarine 이름은 {} Mc{}face'.format(a.capitalize(), a.capitalize())\n",
    "racehorse = 'an Australian racehorse 이름은 {} Mc{}face'.format(b.capitalize(),b.capitalize())\n",
    "train = 'an Swedish train 이름은 {}Mc{}face'.format(c.capitalize(),c.capitalize())\n",
    "print(submarine)\n",
    "print(racehorse)\n",
    "print(train)\n",
    "\n",
    "#5.7 (2)\n",
    "submarine = 'an English submarine 이름은 {0} Mc{0}face'.format(a.capitalize())\n",
    "racehorse = 'an Australian racehorse 이름은 {0} Mc{0}face'.format(b.capitalize())\n",
    "train = 'an Swedish train 이름은 {0}Mc{0}face'.format(c.capitalize())\n",
    "print(submarine)\n",
    "print(racehorse)\n",
    "print(train)\n",
    "\n",
    "#5.8\n",
    "newEnglish = f'an English submarine 이름은 {a.capitalize()} Mc{a.capitalize()}face'\n",
    "newAustralian = f'an Australian racehorse 이름은 {b.capitalize()} Mc{b.capitalize()}face'\n",
    "newSwedish = f'an Swedish train 이름은 {c.capitalize()} Mc{c.capitalize()}face'\n",
    "print(newEnglish)\n",
    "print(newAustralian)\n",
    "print(newSwedish)"
   ]
  },
  {
   "cell_type": "code",
   "execution_count": 176,
   "metadata": {},
   "outputs": [
    {
     "name": "stdout",
     "output_type": "stream",
     "text": [
      "String to capitalize [q to quit]: test\n",
      "Test\n",
      "String to capitalize [q to quit]: winnie the pooh\n",
      "Winnie the pooh\n",
      "String to capitalize [q to quit]: Q\n",
      "Q\n",
      "String to capitalize [q to quit]: q\n"
     ]
    }
   ],
   "source": [
    "while True:\n",
    "    stuff = input(\"String to capitalize [q to quit]: \")\n",
    "    if stuff == \"q\":\n",
    "        break\n",
    "    print(stuff.capitalize())"
   ]
  },
  {
   "cell_type": "code",
   "execution_count": 178,
   "metadata": {},
   "outputs": [
    {
     "name": "stdout",
     "output_type": "stream",
     "text": [
      "Integer, please [q to quit]: 3\n",
      "3 squared is 9\n",
      "Integer, please [q to quit]: 2\n",
      "Integer, please [q to quit]: q\n"
     ]
    }
   ],
   "source": [
    "while True:\n",
    "    value = input(\"Integer, please [q to quit]: \")\n",
    "    if value == 'q':\n",
    "        break\n",
    "    number = int(value)\n",
    "    if number % 2 ==0:\n",
    "        continue\n",
    "    print(number, \"squared is\", number*number)"
   ]
  },
  {
   "cell_type": "code",
   "execution_count": 184,
   "metadata": {},
   "outputs": [
    {
     "name": "stdout",
     "output_type": "stream",
     "text": [
      "No even number found\n"
     ]
    }
   ],
   "source": [
    "numbers = [1, 3, 5]\n",
    "position = 0\n",
    "while position < len(numbers):\n",
    "    number = numbers[position]\n",
    "    if number % 2 == 0:\n",
    "        print('Found even number', number)\n",
    "        break\n",
    "    position +=1\n",
    "else: # break 문이 호출되지 않은 경우, while 대한 else...\n",
    "        print('No even number found')        "
   ]
  },
  {
   "cell_type": "code",
   "execution_count": 186,
   "metadata": {},
   "outputs": [
    {
     "name": "stdout",
     "output_type": "stream",
     "text": [
      "t\n",
      "h\n",
      "u\n",
      "d\n",
      "No 'x' in there.\n"
     ]
    }
   ],
   "source": [
    "word= 'thud'\n",
    "for letter in word:\n",
    "    if letter == 'x':\n",
    "        print(\"Eek! An 'x'!\")\n",
    "        break\n",
    "    print(letter)\n",
    "else:\n",
    "        print(\"No 'x' in there.\")"
   ]
  },
  {
   "cell_type": "code",
   "execution_count": 188,
   "metadata": {},
   "outputs": [
    {
     "name": "stdout",
     "output_type": "stream",
     "text": [
      "0\n",
      "1\n",
      "2\n"
     ]
    }
   ],
   "source": [
    "for x in range(0, 3):\n",
    "    print(x)"
   ]
  },
  {
   "cell_type": "code",
   "execution_count": 190,
   "metadata": {},
   "outputs": [
    {
     "name": "stdout",
     "output_type": "stream",
     "text": [
      "2\n",
      "1\n",
      "0\n"
     ]
    }
   ],
   "source": [
    "for x in range (2, -1, -1):\n",
    "    print(x)"
   ]
  },
  {
   "cell_type": "code",
   "execution_count": 191,
   "metadata": {},
   "outputs": [
    {
     "name": "stdout",
     "output_type": "stream",
     "text": [
      "t\n",
      "h\n",
      "u\n",
      "d\n"
     ]
    }
   ],
   "source": [
    "word = 'thud'\n",
    "for letter in word:\n",
    "    print(letter)\n"
   ]
  },
  {
   "cell_type": "code",
   "execution_count": 201,
   "metadata": {},
   "outputs": [
    {
     "name": "stdout",
     "output_type": "stream",
     "text": [
      "구하려는 구구단 입력: 9\n",
      "9 x 1 = 9\n",
      "9 x 2 = 18\n",
      "9 x 3 = 27\n",
      "9 x 4 = 36\n",
      "9 x 5 = 45\n",
      "9 x 6 = 54\n",
      "9 x 7 = 63\n",
      "9 x 8 = 72\n",
      "9 x 9 = 81\n"
     ]
    }
   ],
   "source": [
    "num = int(input('구하려는 구구단 입력: '))\n",
    "\n",
    "for i in range(1,10):\n",
    "    print(f'{num} x {int(i)} = {num*int(i)}')\n",
    "    "
   ]
  }
 ],
 "metadata": {
  "kernelspec": {
   "display_name": "Python 3",
   "language": "python",
   "name": "python3"
  },
  "language_info": {
   "codemirror_mode": {
    "name": "ipython",
    "version": 3
   },
   "file_extension": ".py",
   "mimetype": "text/x-python",
   "name": "python",
   "nbconvert_exporter": "python",
   "pygments_lexer": "ipython3",
   "version": "3.8.5"
  }
 },
 "nbformat": 4,
 "nbformat_minor": 4
}
