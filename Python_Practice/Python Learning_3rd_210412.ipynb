{
 "cells": [
  {
   "cell_type": "code",
   "execution_count": 2,
   "metadata": {},
   "outputs": [
    {
     "name": "stdout",
     "output_type": "stream",
     "text": [
      "apple banana\n",
      "apple banana\n"
     ]
    }
   ],
   "source": [
    "a = 'apple'\n",
    "b = 'banana'\n",
    "print(a , b) #자동으로 공백 나옴\n",
    "print(a + ' ' + b)"
   ]
  },
  {
   "cell_type": "code",
   "execution_count": 8,
   "metadata": {},
   "outputs": [],
   "source": [
    "list_a = ['0', '1', ['2', '3'], ['4', '5']]"
   ]
  },
  {
   "cell_type": "code",
   "execution_count": 15,
   "metadata": {},
   "outputs": [
    {
     "data": {
      "text/plain": [
       "'5'"
      ]
     },
     "execution_count": 15,
     "metadata": {},
     "output_type": "execute_result"
    }
   ],
   "source": [
    "list_a[3][1]"
   ]
  },
  {
   "cell_type": "code",
   "execution_count": 17,
   "metadata": {},
   "outputs": [
    {
     "data": {
      "text/plain": [
       "[1, 3, 5]"
      ]
     },
     "execution_count": 17,
     "metadata": {},
     "output_type": "execute_result"
    }
   ],
   "source": [
    "a_list = [number for number in range(1, 6) if number % 2 ==1]\n",
    "a_list"
   ]
  },
  {
   "cell_type": "code",
   "execution_count": 20,
   "metadata": {},
   "outputs": [
    {
     "name": "stdout",
     "output_type": "stream",
     "text": [
      "<generator object <genexpr> at 0x000001E55DD4E430>\n"
     ]
    },
    {
     "data": {
      "text/plain": [
       "generator"
      ]
     },
     "execution_count": 20,
     "metadata": {},
     "output_type": "execute_result"
    }
   ],
   "source": [
    "number_thing = (number for number in range(1, 6))#generator 생성됨\n",
    "print(number_thing)\n",
    "type(number_thing)"
   ]
  },
  {
   "cell_type": "code",
   "execution_count": 24,
   "metadata": {},
   "outputs": [
    {
     "name": "stdout",
     "output_type": "stream",
     "text": [
      "1236\n",
      "1239\n"
     ]
    }
   ],
   "source": [
    "#7.1\n",
    "year_list = [1234, 1235, 1236, 1237, 1238, 1239]\n",
    "# 7.2\n",
    "print(year_list[2])\n",
    "# 7.3\n",
    "print(year_list[-1])"
   ]
  },
  {
   "cell_type": "code",
   "execution_count": 28,
   "metadata": {},
   "outputs": [
    {
     "name": "stdout",
     "output_type": "stream",
     "text": [
      "['MOZZARELLA', 'CINDERELLA', 'SALMONELLA']\n"
     ]
    }
   ],
   "source": [
    "#7.4\n",
    "things = ['mozzarella', 'cinderella', 'salmonella']\n",
    "#7.6\n",
    "things = [x.upper() for x in things]\n",
    "#things[0] = things[0].title\n",
    "\n",
    "print(things)"
   ]
  },
  {
   "cell_type": "code",
   "execution_count": 110,
   "metadata": {},
   "outputs": [
    {
     "name": "stdout",
     "output_type": "stream",
     "text": [
      "['Harpo', 'Groucho', 'Chico']\n"
     ]
    }
   ],
   "source": [
    "#7.8 \n",
    "surprise = [\"Groucho\", \"Chico\", \"Harpo\"]\n",
    "#7.9\n",
    "surprise[2] = surprise[2].lower() #마지막 문자열 소문자 변경\n",
    "surprise.sort(reverse=True) # or surprise = surprise[::-1] #단어 뒤집기\n",
    "surprise[0] = surprise[0].title()\n",
    "print(surprise)"
   ]
  },
  {
   "cell_type": "code",
   "execution_count": 49,
   "metadata": {},
   "outputs": [
    {
     "data": {
      "text/plain": [
       "[0, 2, 4, 6, 8]"
      ]
     },
     "execution_count": 49,
     "metadata": {},
     "output_type": "execute_result"
    }
   ],
   "source": [
    "#7.10 \n",
    "a_list = [number for number in range(10) if number % 2 ==0 ]\n",
    "a_list"
   ]
  },
  {
   "cell_type": "code",
   "execution_count": 15,
   "metadata": {},
   "outputs": [],
   "source": [
    "#7.11\n",
    "start1 = [\"fee\", \"fie\", \"foe\"]\n",
    "rhymes = [\n",
    "    (\"flop\", \"get a mop\"),\n",
    "    (\"fope\", \"turn the rope\"),\n",
    "    (\"fa\", \"get your ma\"),\n",
    "    (\"fudge\", \"call the judge\"), \n",
    "    (\"fat\", \"pet the cat\"), \n",
    "    (\"fog\", \"walk the dog\"),\n",
    "    (\"fun\", \"say we're done\"),\n",
    "    ]\n",
    "start2 = \"Someone better\""
   ]
  },
  {
   "cell_type": "code",
   "execution_count": 53,
   "metadata": {},
   "outputs": [
    {
     "name": "stdout",
     "output_type": "stream",
     "text": [
      "Fee! Fie! Foe! "
     ]
    }
   ],
   "source": [
    "#첫 번째\n",
    "for i in start1 :\n",
    "        print(i.title() +'! ', end='')"
   ]
  },
  {
   "cell_type": "code",
   "execution_count": 44,
   "metadata": {},
   "outputs": [
    {
     "name": "stdout",
     "output_type": "stream",
     "text": [
      "['flop', 'get a mop', 'fope', 'turn the rope', 'fa', 'get your ma', 'fudge', 'call the judge', 'fat', 'pet the cat', 'fog', 'walk the dog', 'fun', \"say we're done\"]\n"
     ]
    }
   ],
   "source": [
    "rhymes_list = []\n",
    "\n",
    "for y in rhymes:\n",
    "    for x in y:\n",
    "        rhymes_list.append(x)\n",
    "\n",
    "print(rhymes_list)          "
   ]
  },
  {
   "cell_type": "code",
   "execution_count": 45,
   "metadata": {},
   "outputs": [
    {
     "name": "stdout",
     "output_type": "stream",
     "text": [
      "Flop! Get A Mop! Fope! Turn The Rope! Fa! Get Your Ma! Fudge! Call The Judge! Fat! Pet The Cat! Fog! Walk The Dog! Fun! Say We'Re Done! "
     ]
    }
   ],
   "source": [
    "for i in rhymes_list :\n",
    "        print(i.title() +'! ', end='')"
   ]
  },
  {
   "cell_type": "code",
   "execution_count": 62,
   "metadata": {},
   "outputs": [
    {
     "name": "stdout",
     "output_type": "stream",
     "text": [
      "Someone better get a mop.\n"
     ]
    }
   ],
   "source": [
    "print(start2,rhymes_list[1] + '.')"
   ]
  },
  {
   "cell_type": "code",
   "execution_count": 5,
   "metadata": {},
   "outputs": [
    {
     "data": {
      "text/plain": [
       "{'Chapman': 'Graham',\n",
       " 'Cleese': 'John',\n",
       " 'Idle': 'Eric',\n",
       " 'Jones': 'Terry',\n",
       " 'Palin': 'Michael'}"
      ]
     },
     "execution_count": 5,
     "metadata": {},
     "output_type": "execute_result"
    }
   ],
   "source": [
    "pythons = {\n",
    "    'Chapman': 'Graham',\n",
    "    'Cleese' : 'John',\n",
    "    'Idle' : 'Eric',\n",
    "    'Jones': 'Terry',\n",
    "    'Palin': 'Michael',\n",
    "}\n",
    "pythons"
   ]
  },
  {
   "cell_type": "code",
   "execution_count": 7,
   "metadata": {},
   "outputs": [
    {
     "data": {
      "text/plain": [
       "{'Chapman': 'Graham',\n",
       " 'Cleese': 'John',\n",
       " 'Idle': 'Eric',\n",
       " 'Jones': 'Terry',\n",
       " 'Palin': 'Michael',\n",
       " 'Gilliam': 'Gerry'}"
      ]
     },
     "execution_count": 7,
     "metadata": {},
     "output_type": "execute_result"
    }
   ],
   "source": [
    "pythons['Gilliam'] ='Gerry'\n",
    "pythons"
   ]
  },
  {
   "cell_type": "code",
   "execution_count": 9,
   "metadata": {},
   "outputs": [
    {
     "data": {
      "text/plain": [
       "{'Chapman': 'Graham',\n",
       " 'Cleese': 'John',\n",
       " 'Idle': 'Eric',\n",
       " 'Jones': 'Terry',\n",
       " 'Palin': 'Michael',\n",
       " 'Gilliam': 'Terry'}"
      ]
     },
     "execution_count": 9,
     "metadata": {},
     "output_type": "execute_result"
    }
   ],
   "source": [
    "pythons['Gilliam'] ='Terry'\n",
    "pythons"
   ]
  },
  {
   "cell_type": "code",
   "execution_count": 21,
   "metadata": {},
   "outputs": [
    {
     "data": {
      "text/plain": [
       "{'Graham': 'Chapman',\n",
       " 'John': 'Cleese',\n",
       " 'Eric': 'Idle',\n",
       " 'Terry': 'Jones',\n",
       " 'Michael': 'Palin'}"
      ]
     },
     "execution_count": 21,
     "metadata": {},
     "output_type": "execute_result"
    }
   ],
   "source": [
    "some_pythons = {\n",
    "    'Graham' : 'Chapman' ,\n",
    "     'John' : 'Cleese'  ,\n",
    "    'Eric'  : 'Idle',\n",
    "    'Terry' : 'Gilliam',\n",
    "    'Michael' : 'Palin' ,\n",
    "    'Terry' : 'Jones',\n",
    "    }\n",
    "some_pythons"
   ]
  },
  {
   "cell_type": "code",
   "execution_count": 23,
   "metadata": {},
   "outputs": [
    {
     "data": {
      "text/plain": [
       "'Cleese'"
      ]
     },
     "execution_count": 23,
     "metadata": {},
     "output_type": "execute_result"
    }
   ],
   "source": [
    "some_pythons['John']"
   ]
  },
  {
   "cell_type": "code",
   "execution_count": 26,
   "metadata": {},
   "outputs": [
    {
     "data": {
      "text/plain": [
       "False"
      ]
     },
     "execution_count": 26,
     "metadata": {},
     "output_type": "execute_result"
    }
   ],
   "source": [
    "'Groucho' in some_pythons"
   ]
  },
  {
   "cell_type": "code",
   "execution_count": 28,
   "metadata": {},
   "outputs": [
    {
     "data": {
      "text/plain": [
       "'Cleese'"
      ]
     },
     "execution_count": 28,
     "metadata": {},
     "output_type": "execute_result"
    }
   ],
   "source": [
    "some_pythons.get('John')"
   ]
  },
  {
   "cell_type": "code",
   "execution_count": 30,
   "metadata": {},
   "outputs": [
    {
     "data": {
      "text/plain": [
       "'Not a Python'"
      ]
     },
     "execution_count": 30,
     "metadata": {},
     "output_type": "execute_result"
    }
   ],
   "source": [
    "some_pythons.get('Groucho', 'Not a Python')"
   ]
  },
  {
   "cell_type": "code",
   "execution_count": 54,
   "metadata": {},
   "outputs": [],
   "source": [
    "some_pythons.get('Groucho') #지정하지 않으면 None 아무것도 출력하지 않음."
   ]
  },
  {
   "cell_type": "code",
   "execution_count": 55,
   "metadata": {},
   "outputs": [
    {
     "data": {
      "text/plain": [
       "6"
      ]
     },
     "execution_count": 55,
     "metadata": {},
     "output_type": "execute_result"
    }
   ],
   "source": [
    "len(pythons) #키 값 쌍이 몇개인지!"
   ]
  }
 ],
 "metadata": {
  "kernelspec": {
   "display_name": "Python 3",
   "language": "python",
   "name": "python3"
  },
  "language_info": {
   "codemirror_mode": {
    "name": "ipython",
    "version": 3
   },
   "file_extension": ".py",
   "mimetype": "text/x-python",
   "name": "python",
   "nbconvert_exporter": "python",
   "pygments_lexer": "ipython3",
   "version": "3.8.5"
  }
 },
 "nbformat": 4,
 "nbformat_minor": 4
}
